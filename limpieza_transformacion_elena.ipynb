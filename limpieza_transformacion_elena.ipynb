{
 "cells": [
  {
   "cell_type": "code",
   "execution_count": 2,
   "metadata": {},
   "outputs": [],
   "source": [
    "import pandas as pd\n",
    "import numpy as np\n",
    "pd.set_option('display.max_rows', None)\n",
    "pd.set_option('display.max_columns', None)"
   ]
  },
  {
   "cell_type": "code",
   "execution_count": 3,
   "metadata": {},
   "outputs": [],
   "source": [
    "df = pd.read_csv(\"HR RAW DATA copy.csv\", index_col= 0)"
   ]
  },
  {
   "cell_type": "code",
   "execution_count": 4,
   "metadata": {},
   "outputs": [
    {
     "data": {
      "text/plain": [
       "Index(['Age', 'Attrition', 'BusinessTravel', 'DailyRate', 'Department',\n",
       "       'DistanceFromHome', 'Education', 'EducationField', 'employeecount',\n",
       "       'employeenumber', 'EnvironmentSatisfaction', 'Gender', 'HourlyRate',\n",
       "       'JobInvolvement', 'JobLevel', 'JobRole', 'JobSatisfaction',\n",
       "       'MaritalStatus', 'MonthlyIncome', 'MonthlyRate', 'NUMCOMPANIESWORKED',\n",
       "       'Over18', 'OverTime', 'PercentSalaryHike', 'PerformanceRating',\n",
       "       'RelationshipSatisfaction', 'StandardHours', 'StockOptionLevel',\n",
       "       'TOTALWORKINGYEARS', 'TrainingTimesLastYear', 'WORKLIFEBALANCE',\n",
       "       'YearsAtCompany', 'YearsInCurrentRole', 'YearsSinceLastPromotion',\n",
       "       'YEARSWITHCURRMANAGER', 'SameAsMonthlyIncome', 'DateBirth', 'Salary',\n",
       "       'RoleDepartament', 'NUMBERCHILDREN', 'RemoteWork'],\n",
       "      dtype='object')"
      ]
     },
     "execution_count": 4,
     "metadata": {},
     "output_type": "execute_result"
    }
   ],
   "source": [
    "df.columns"
   ]
  },
  {
   "cell_type": "code",
   "execution_count": 5,
   "metadata": {},
   "outputs": [],
   "source": [
    "import re\n",
    "\n",
    "# Ejemplo de DataFrame\n",
    "lista= ['Age', 'Attrition', 'BusinessTravel', 'DailyRate', 'Department',\n",
    "       'DistanceFromHome', 'Education', 'EducationField', 'employeecount',\n",
    "       'employeenumber', 'EnvironmentSatisfaction', 'Gender', 'HourlyRate',\n",
    "       'JobInvolvement', 'JobLevel', 'JobRole', 'JobSatisfaction',\n",
    "       'MaritalStatus', 'MonthlyIncome', 'MonthlyRate', 'NUMCOMPANIESWORKED',\n",
    "       'Over18', 'OverTime', 'PercentSalaryHike', 'PerformanceRating',\n",
    "       'RelationshipSatisfaction', 'StandardHours', 'StockOptionLevel',\n",
    "       'TOTALWORKINGYEARS', 'TrainingTimesLastYear', 'WORKLIFEBALANCE',\n",
    "       'YearsAtCompany', 'YearsInCurrentRole', 'YearsSinceLastPromotion',\n",
    "       'YEARSWITHCURRMANAGER', 'SameAsMonthlyIncome', 'DateBirth', 'Salary',\n",
    "       'RoleDepartament', 'NUMBERCHILDREN', 'RemoteWork']\n",
    "lista_excepcion= ['employeecount','employeenumber', 'NUMBERCHILDREN','WORKLIFEBALANCE',\n",
    "                  'YEARSWITHCURRMANAGER','NUMCOMPANIESWORKED','TOTALWORKINGYEARS']\n",
    "dicc_col = {}\n",
    "dicc_excepcion ={}\n",
    "# Aplica la función a la columna del DataFrame\n",
    "for col in lista:\n",
    "        cambio= re.sub(r'([a-z])([A-Z])', r'\\1 \\2', col)\n",
    "        dicc_col[col]=cambio\n",
    "for col in lista_excepcion:\n",
    "        dicc_excepcion['YEARSWITHCURRMANAGER'] = 'Years With Curr Manager'\n",
    "        dicc_excepcion['TOTALWORKINGYEARS'] = 'Total Working Years'\n",
    "        dicc_excepcion['NUMCOMPANIESWORKED'] = 'Num Companies Worked'\n",
    "        dicc_excepcion['NUMBERCHILDREN'] = \"Number Children\"\n",
    "        dicc_excepcion['WORKLIFEBALANCE'] = \"Work Life Balance\"\n",
    "        dicc_excepcion['employeenumber'] = \"Employee Number\"\n",
    "        dicc_excepcion['employeecount'] = \"Employee Count\"\n",
    "df.rename(columns =dicc_col, inplace=True)\n",
    "df.rename(columns =dicc_excepcion, inplace=True)\n"
   ]
  },
  {
   "cell_type": "code",
   "execution_count": 6,
   "metadata": {},
   "outputs": [
    {
     "data": {
      "text/plain": [
       "Index(['Age', 'Attrition', 'Business Travel', 'Daily Rate', 'Department',\n",
       "       'Distance From Home', 'Education', 'Education Field', 'Employee Count',\n",
       "       'Employee Number', 'Environment Satisfaction', 'Gender', 'Hourly Rate',\n",
       "       'Job Involvement', 'Job Level', 'Job Role', 'Job Satisfaction',\n",
       "       'Marital Status', 'Monthly Income', 'Monthly Rate',\n",
       "       'Num Companies Worked', 'Over18', 'Over Time', 'Percent Salary Hike',\n",
       "       'Performance Rating', 'Relationship Satisfaction', 'Standard Hours',\n",
       "       'Stock Option Level', 'Total Working Years', 'Training Times Last Year',\n",
       "       'Work Life Balance', 'Years At Company', 'Years In Current Role',\n",
       "       'Years Since Last Promotion', 'Years With Curr Manager',\n",
       "       'Same As Monthly Income', 'Date Birth', 'Salary', 'Role Departament',\n",
       "       'Number Children', 'Remote Work'],\n",
       "      dtype='object')"
      ]
     },
     "execution_count": 6,
     "metadata": {},
     "output_type": "execute_result"
    }
   ],
   "source": [
    "df.columns"
   ]
  }
 ],
 "metadata": {
  "kernelspec": {
   "display_name": "Python 3",
   "language": "python",
   "name": "python3"
  },
  "language_info": {
   "codemirror_mode": {
    "name": "ipython",
    "version": 3
   },
   "file_extension": ".py",
   "mimetype": "text/x-python",
   "name": "python",
   "nbconvert_exporter": "python",
   "pygments_lexer": "ipython3",
   "version": "3.11.6"
  }
 },
 "nbformat": 4,
 "nbformat_minor": 2
}
