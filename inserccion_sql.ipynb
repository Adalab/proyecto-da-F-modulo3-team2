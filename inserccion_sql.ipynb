{
 "cells": [
  {
   "cell_type": "code",
   "execution_count": 8,
   "metadata": {},
   "outputs": [],
   "source": [
    "import pandas as pd\n",
    "import numpy as np\n",
    "import mysql.connector\n",
    "from mysql.connector import errorcode"
   ]
  },
  {
   "cell_type": "code",
   "execution_count": null,
   "metadata": {},
   "outputs": [],
   "source": [
    "# demograficos = pd.DataFrame(df_copy[['ID','Employee Number', 'Date Birth', 'Gender', 'Marital Status', 'Education', 'Education Field', 'Total Working Years', 'Num Companies Worked', 'Distance From Home']])\n",
    "# demograficos.to_csv('tabla_demograficos.csv', index=False)\n",
    "# salariales =pd.DataFrame(df_copy[['ID','Monthly Income', 'Daily Rate', 'Hourly Rate', 'Monthly Rate', 'Percent Salary Hike', 'Remote Work', 'Stock Option Level']])\n",
    "# salariales.to_csv('tabla_salariales.csv', index=False)\n",
    "# puesto_trabajo = pd.DataFrame(df_copy[['ID','Attrition', 'Job Role', 'Job Level', 'Years At Company', 'Years With Curr Manager', 'Years Since Last Promotion', 'Training Times Last Year', 'Business Travel', 'Over Time']])\n",
    "# puesto_trabajo.to_csv('tabla_puesto_trabajo.csv', index=False)\n",
    "# escalas = pd.DataFrame(df_copy[['ID','Performance Rating', 'Work Life Balance', 'Job Satisfaction', 'Job Involvement', 'Relationship Satisfaction', 'Environment Satisfaction']])\n",
    "# escalas.to_csv('tabla_escalas.csv', index=False)\n",
    "# lista_tuplas_demograficos = [tuple(x) for x in demograficos.values]\n",
    "# lista_tuplas_salarios = [tuple(x) for x in salariales.values]\n",
    "# lista_tuplas_puesto_trabajo = [tuple(x) for x in puesto_trabajo.values]\n",
    "# lista_tuplas_escalas = [tuple(x) for x in escalas.values]"
   ]
  },
  {
   "cell_type": "code",
   "execution_count": 9,
   "metadata": {},
   "outputs": [],
   "source": [
    "demograficos = pd.read_csv('tabla_demograficos.csv')\n",
    "salariales = pd.read_csv('tabla_salariales.csv')\n",
    "puesto_trabajo = pd.read_csv('tabla_puesto_trabajo.csv')\n",
    "escalas = pd.read_csv('tabla_escalas.csv')"
   ]
  },
  {
   "cell_type": "code",
   "execution_count": 10,
   "metadata": {},
   "outputs": [],
   "source": [
    "lista_tuplas_demograficos = [tuple(x) for x in demograficos.values]\n",
    "lista_tuplas_salariales = [tuple(x) for x in salariales.values]\n",
    "lista_tuplas_puesto_trabajo = [tuple(x) for x in puesto_trabajo.values]\n",
    "lista_tuplas_escalas = [tuple(x) for x in escalas.values]"
   ]
  },
  {
   "cell_type": "code",
   "execution_count": 11,
   "metadata": {},
   "outputs": [
    {
     "name": "stdout",
     "output_type": "stream",
     "text": [
      "Ha habido un error en la inserción\n"
     ]
    }
   ],
   "source": [
    "\n",
    "cnx = mysql.connector.connect(user = \"root\",\n",
    "                              password = \"AlumnaAdalab\",\n",
    "                              host = \"127.0.0.1\",\n",
    "                              database = \"abc_corp\")#Nuesta base de datos de mysql\n",
    "#Nos permite enviar informacion atraves de la conexion\n",
    "mycursor = cnx.cursor()\n",
    "\n",
    "\n",
    "#Escribimos la query aqui\n",
    "#¡¡¡El ORDEN IMPORTA!!! --> El primer dato debe ser el primer elemento de la lista de tuplas\n",
    "sql_demograficos = \"INSERT INTO demograficos (ID, Employee Number, Date Birth, Gender, Marital Status, Education, Education Field, Total Working Years, Num Companies Worked, Distance From Home) VALUES (%s, %s, %s, %s, %s, %s, %s, %s, %s,%s)\" \n",
    "                        #datos del archivo correspondiente\n",
    "try:\n",
    "    mycursor.executemany(sql_demograficos, lista_tuplas_demograficos)\n",
    "    cnx.commit()\n",
    "    print(mycursor.rowcount,\"registros insertados\")\n",
    "except:\n",
    "    print(\"Ha habido un error en la inserción\")"
   ]
  }
 ],
 "metadata": {
  "kernelspec": {
   "display_name": "Python 3",
   "language": "python",
   "name": "python3"
  },
  "language_info": {
   "codemirror_mode": {
    "name": "ipython",
    "version": 3
   },
   "file_extension": ".py",
   "mimetype": "text/x-python",
   "name": "python",
   "nbconvert_exporter": "python",
   "pygments_lexer": "ipython3",
   "version": "3.11.7"
  }
 },
 "nbformat": 4,
 "nbformat_minor": 2
}
